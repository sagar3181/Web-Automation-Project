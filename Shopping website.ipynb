{
 "cells": [
  {
   "cell_type": "code",
   "execution_count": 8,
   "id": "0b413241",
   "metadata": {},
   "outputs": [
    {
     "name": "stderr",
     "output_type": "stream",
     "text": [
      "C:\\Users\\sagar\\AppData\\Local\\Temp\\ipykernel_2052\\17122560.py:4: DeprecationWarning: executable_path has been deprecated, please pass in a Service object\n",
      "  driver=webdriver.Chrome(executable_path=\"chromedriver.exe\")\n"
     ]
    },
    {
     "name": "stdout",
     "output_type": "stream",
     "text": [
      "My Store\n"
     ]
    },
    {
     "name": "stderr",
     "output_type": "stream",
     "text": [
      "C:\\Users\\sagar\\AppData\\Local\\Temp\\ipykernel_2052\\17122560.py:12: DeprecationWarning: find_element_by_xpath is deprecated. Please use find_element(by=By.XPATH, value=xpath) instead\n",
      "  bestseller = driver.find_element_by_xpath('/html/body/div/div[2]/div/div[2]/div/ul/li[2]/a') #bestseller category\n",
      "C:\\Users\\sagar\\AppData\\Local\\Temp\\ipykernel_2052\\17122560.py:14: DeprecationWarning: find_element_by_xpath is deprecated. Please use find_element(by=By.XPATH, value=xpath) instead\n",
      "  dress1 = driver.find_element_by_xpath('/html/body/div/div[2]/div/div[2]/div/div[1]/ul[2]/li[6]/div/div[2]/h5/a') #dress 1 selection\n",
      "C:\\Users\\sagar\\AppData\\Local\\Temp\\ipykernel_2052\\17122560.py:17: DeprecationWarning: find_element_by_xpath is deprecated. Please use find_element(by=By.XPATH, value=xpath) instead\n",
      "  dress1color = driver.find_element_by_xpath('/html/body/div/div[2]/div/div[3]/div/div/div/div[4]/form/div/div[2]/div/fieldset[2]/div/ul/li[1]/a') #dress 1 color selection\n",
      "C:\\Users\\sagar\\AppData\\Local\\Temp\\ipykernel_2052\\17122560.py:19: DeprecationWarning: find_element_by_xpath is deprecated. Please use find_element(by=By.XPATH, value=xpath) instead\n",
      "  dress1add = driver.find_element_by_xpath('/html/body/div/div[2]/div/div[3]/div/div/div/div[4]/form/div/div[3]/div/p/button') #adding dress 1 in cart\n",
      "C:\\Users\\sagar\\AppData\\Local\\Temp\\ipykernel_2052\\17122560.py:22: DeprecationWarning: find_element_by_xpath is deprecated. Please use find_element(by=By.XPATH, value=xpath) instead\n",
      "  dress1back = driver.find_element_by_xpath('//html/body/div/div[1]/header/div[3]/div/div/div[4]/div[1]/div[2]/div[4]/span') #back to shopping\n",
      "C:\\Users\\sagar\\AppData\\Local\\Temp\\ipykernel_2052\\17122560.py:26: DeprecationWarning: find_element_by_xpath is deprecated. Please use find_element(by=By.XPATH, value=xpath) instead\n",
      "  previouspg = driver.find_element_by_xpath('/html/body/div/div[2]/div/div[1]/a[3]') #moving to dresses page\n",
      "C:\\Users\\sagar\\AppData\\Local\\Temp\\ipykernel_2052\\17122560.py:30: DeprecationWarning: find_element_by_xpath is deprecated. Please use find_element(by=By.XPATH, value=xpath) instead\n",
      "  select=driver.find_element_by_xpath('/html/body/div/div[2]/div/div[3]/div[1]/div[2]/div[1]/form/div/div[4]/ul/li[1]/div/span/input') #selecting cotton checkbox\n",
      "C:\\Users\\sagar\\AppData\\Local\\Temp\\ipykernel_2052\\17122560.py:34: DeprecationWarning: find_element_by_xpath is deprecated. Please use find_element(by=By.XPATH, value=xpath) instead\n",
      "  dress2=driver.find_element_by_xpath('/html/body/div/div[2]/div/div[3]/div[2]/ul/li/div/div[2]/h5/a') #selecting dress 2\n",
      "C:\\Users\\sagar\\AppData\\Local\\Temp\\ipykernel_2052\\17122560.py:38: DeprecationWarning: find_element_by_xpath is deprecated. Please use find_element(by=By.XPATH, value=xpath) instead\n",
      "  adddress = driver.find_element_by_xpath('/html/body/div/div[2]/div/div[3]/div/div/div/div[4]/form/div/div[2]/p[1]/a[2]').click() #adding 1 more dress\n",
      "C:\\Users\\sagar\\AppData\\Local\\Temp\\ipykernel_2052\\17122560.py:39: DeprecationWarning: find_element_by_xpath is deprecated. Please use find_element(by=By.XPATH, value=xpath) instead\n",
      "  dress2add = driver.find_element_by_xpath('/html/body/div/div[2]/div/div[3]/div/div/div/div[4]/form/div/div[3]/div/p/button').click() #add dress2 in cart\n",
      "C:\\Users\\sagar\\AppData\\Local\\Temp\\ipykernel_2052\\17122560.py:40: DeprecationWarning: find_element_by_xpath is deprecated. Please use find_element(by=By.XPATH, value=xpath) instead\n",
      "  checkout = driver.find_element_by_xpath('/html/body/div/div[1]/header/div[3]/div/div/div[4]/div[1]/div[2]/div[4]/a') #checking out the cart\n",
      "C:\\Users\\sagar\\AppData\\Local\\Temp\\ipykernel_2052\\17122560.py:44: DeprecationWarning: find_element_by_xpath is deprecated. Please use find_element(by=By.XPATH, value=xpath) instead\n",
      "  final_checkout = driver.find_element_by_xpath('/html/body/div/div[2]/div/div[3]/div/p[2]/a[1]').click()\n",
      "C:\\Users\\sagar\\AppData\\Local\\Temp\\ipykernel_2052\\17122560.py:45: DeprecationWarning: find_element_by_xpath is deprecated. Please use find_element(by=By.XPATH, value=xpath) instead\n",
      "  alreadyreg_email = driver.find_element_by_xpath('/html/body/div/div[2]/div/div[3]/div/div/div[2]/form/div/div[1]/input') #register email\n",
      "C:\\Users\\sagar\\AppData\\Local\\Temp\\ipykernel_2052\\17122560.py:47: DeprecationWarning: find_element_by_xpath is deprecated. Please use find_element(by=By.XPATH, value=xpath) instead\n",
      "  alreadyreg_pass = driver.find_element_by_xpath('/html/body/div/div[2]/div/div[3]/div/div/div[2]/form/div/div[2]/span/input') #register email pass\n",
      "C:\\Users\\sagar\\AppData\\Local\\Temp\\ipykernel_2052\\17122560.py:49: DeprecationWarning: find_element_by_xpath is deprecated. Please use find_element(by=By.XPATH, value=xpath) instead\n",
      "  enter = driver.find_element_by_xpath('/html/body/div/div[2]/div/div[3]/div/div/div[2]/form/div/p[2]/button') #entering the email & pass\n",
      "C:\\Users\\sagar\\AppData\\Local\\Temp\\ipykernel_2052\\17122560.py:51: DeprecationWarning: find_element_by_xpath is deprecated. Please use find_element(by=By.XPATH, value=xpath) instead\n",
      "  Addproceedcheckout = driver.find_element_by_xpath('/html/body/div/div[2]/div/div[3]/div/form/p/button').click()\n",
      "C:\\Users\\sagar\\AppData\\Local\\Temp\\ipykernel_2052\\17122560.py:52: DeprecationWarning: find_element_by_xpath is deprecated. Please use find_element(by=By.XPATH, value=xpath) instead\n",
      "  agreecondition = driver.find_element_by_xpath('/html/body/div/div[2]/div/div[3]/div/div/form/div/p[2]/div/span/input').click()\n",
      "C:\\Users\\sagar\\AppData\\Local\\Temp\\ipykernel_2052\\17122560.py:53: DeprecationWarning: find_element_by_xpath is deprecated. Please use find_element(by=By.XPATH, value=xpath) instead\n",
      "  Shipproceedcheckout = driver.find_element_by_xpath('/html/body/div/div[2]/div/div[3]/div/div/form/p/button').click()\n",
      "C:\\Users\\sagar\\AppData\\Local\\Temp\\ipykernel_2052\\17122560.py:54: DeprecationWarning: find_element_by_xpath is deprecated. Please use find_element(by=By.XPATH, value=xpath) instead\n",
      "  Bankwire = driver.find_element_by_xpath('/html/body/div/div[2]/div/div[3]/div/div/div[3]/div[1]/div/p/a').click()\n",
      "C:\\Users\\sagar\\AppData\\Local\\Temp\\ipykernel_2052\\17122560.py:55: DeprecationWarning: find_element_by_xpath is deprecated. Please use find_element(by=By.XPATH, value=xpath) instead\n",
      "  Confirm = driver.find_element_by_xpath('/html/body/div/div[2]/div/div[3]/div/form/p/button').click()\n"
     ]
    }
   ],
   "source": [
    "from selenium import webdriver\n",
    "import time\n",
    "#from selenium.webdriver.support.ui import Select\n",
    "driver=webdriver.Chrome(executable_path=\"chromedriver.exe\")\n",
    "driver.get(\"http://automationpractice.com/index.php\")\n",
    "print(driver.title)\n",
    "driver.maximize_window()\n",
    "#time.sleep(2)\n",
    "driver.execute_script(\"window.scrollBy(0,720)\",\"\")\n",
    "#time.sleep(2)\n",
    "\n",
    "bestseller = driver.find_element_by_xpath('/html/body/div/div[2]/div/div[2]/div/ul/li[2]/a') #bestseller category\n",
    "bestseller.click()\n",
    "dress1 = driver.find_element_by_xpath('/html/body/div/div[2]/div/div[2]/div/div[1]/ul[2]/li[6]/div/div[2]/h5/a') #dress 1 selection\n",
    "dress1.click()\n",
    "#time.sleep(2)\n",
    "dress1color = driver.find_element_by_xpath('/html/body/div/div[2]/div/div[3]/div/div/div/div[4]/form/div/div[2]/div/fieldset[2]/div/ul/li[1]/a') #dress 1 color selection\n",
    "dress1color.click()\n",
    "dress1add = driver.find_element_by_xpath('/html/body/div/div[2]/div/div[3]/div/div/div/div[4]/form/div/div[3]/div/p/button') #adding dress 1 in cart\n",
    "dress1add.click()\n",
    "time.sleep(2)\n",
    "dress1back = driver.find_element_by_xpath('//html/body/div/div[1]/header/div[3]/div/div/div[4]/div[1]/div[2]/div[4]/span') #back to shopping\n",
    "#time.sleep(3)\n",
    "dress1back.click()\n",
    "#time.sleep(1)\n",
    "previouspg = driver.find_element_by_xpath('/html/body/div/div[2]/div/div[1]/a[3]') #moving to dresses page\n",
    "#time.sleep(1)\n",
    "previouspg.click()\n",
    "driver.execute_script(\"window.scrollBy(0,720)\",\"\")\n",
    "select=driver.find_element_by_xpath('/html/body/div/div[2]/div/div[3]/div[1]/div[2]/div[1]/form/div/div[4]/ul/li[1]/div/span/input') #selecting cotton checkbox\n",
    "#time.sleep(1)\n",
    "select.click()\n",
    "#time.sleep(2)\n",
    "dress2=driver.find_element_by_xpath('/html/body/div/div[2]/div/div[3]/div[2]/ul/li/div/div[2]/h5/a') #selecting dress 2\n",
    "dress2.click()\n",
    "#dropdown = select(driver.find_element_by_id('group_1'))\n",
    "#dropdown.select_by_visible_text('M')\n",
    "adddress = driver.find_element_by_xpath('/html/body/div/div[2]/div/div[3]/div/div/div/div[4]/form/div/div[2]/p[1]/a[2]').click() #adding 1 more dress \n",
    "dress2add = driver.find_element_by_xpath('/html/body/div/div[2]/div/div[3]/div/div/div/div[4]/form/div/div[3]/div/p/button').click() #add dress2 in cart\n",
    "checkout = driver.find_element_by_xpath('/html/body/div/div[1]/header/div[3]/div/div/div[4]/div[1]/div[2]/div[4]/a') #checking out the cart\n",
    "time.sleep(2)\n",
    "checkout.click()\n",
    "\n",
    "final_checkout = driver.find_element_by_xpath('/html/body/div/div[2]/div/div[3]/div/p[2]/a[1]').click()\n",
    "alreadyreg_email = driver.find_element_by_xpath('/html/body/div/div[2]/div/div[3]/div/div/div[2]/form/div/div[1]/input') #register email\n",
    "alreadyreg_email.send_keys('tempemail@gmail.com')\n",
    "alreadyreg_pass = driver.find_element_by_xpath('/html/body/div/div[2]/div/div[3]/div/div/div[2]/form/div/div[2]/span/input') #register email pass \n",
    "alreadyreg_pass.send_keys('temp123')\n",
    "enter = driver.find_element_by_xpath('/html/body/div/div[2]/div/div[3]/div/div/div[2]/form/div/p[2]/button') #entering the email & pass\n",
    "enter.click()\n",
    "Addproceedcheckout = driver.find_element_by_xpath('/html/body/div/div[2]/div/div[3]/div/form/p/button').click() \n",
    "agreecondition = driver.find_element_by_xpath('/html/body/div/div[2]/div/div[3]/div/div/form/div/p[2]/div/span/input').click()\n",
    "Shipproceedcheckout = driver.find_element_by_xpath('/html/body/div/div[2]/div/div[3]/div/div/form/p/button').click()\n",
    "Bankwire = driver.find_element_by_xpath('/html/body/div/div[2]/div/div[3]/div/div/div[3]/div[1]/div/p/a').click()\n",
    "Confirm = driver.find_element_by_xpath('/html/body/div/div[2]/div/div[3]/div/form/p/button').click()\n"
   ]
  },
  {
   "cell_type": "code",
   "execution_count": null,
   "id": "6a2589bb",
   "metadata": {},
   "outputs": [],
   "source": []
  }
 ],
 "metadata": {
  "kernelspec": {
   "display_name": "Python 3 (ipykernel)",
   "language": "python",
   "name": "python3"
  },
  "language_info": {
   "codemirror_mode": {
    "name": "ipython",
    "version": 3
   },
   "file_extension": ".py",
   "mimetype": "text/x-python",
   "name": "python",
   "nbconvert_exporter": "python",
   "pygments_lexer": "ipython3",
   "version": "3.9.13"
  }
 },
 "nbformat": 4,
 "nbformat_minor": 5
}
